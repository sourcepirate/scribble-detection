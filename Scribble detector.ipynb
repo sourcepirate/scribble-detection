{
 "cells": [
  {
   "cell_type": "markdown",
   "metadata": {},
   "source": [
    "# Parse the words file"
   ]
  },
  {
   "cell_type": "code",
   "execution_count": 28,
   "metadata": {
    "collapsed": true
   },
   "outputs": [],
   "source": [
    "# Generating dataset\n",
    "import pandas as pd\n",
    "# dictionary words\n",
    "sf = pd.read_csv(\"words_alpha.txt\")\n",
    "sf[\"scribble\"] = False\n",
    "sf[\"label\"] = \"word\"\n",
    "#scribble words\n",
    "nsf = pd.read_csv(\"scibble.txt\")\n",
    "nsf[\"scribble\"] = True\n",
    "nsf[\"label\"] = \"scribble\"\n",
    "word_list = [sf, nsf]\n",
    "bulk = pd.concat(word_list)\n",
    "bulk.to_csv(\"scribble_data.txt\")"
   ]
  },
  {
   "cell_type": "code",
   "execution_count": 5,
   "metadata": {},
   "outputs": [],
   "source": [
    "from collections import Counter\n",
    "from math import sqrt\n",
    "\n",
    "UPPER = \"qwertpoiuy\"\n",
    "MIDDLE = \"asdfglkjh\"\n",
    "LOWER = \"zxcvbnm\"\n",
    "\n",
    "def get_class_count(word_dict, _kls):\n",
    "    keys = set(word_dict.keys())\n",
    "    _kls_set = set(_kls)\n",
    "    intersection  = keys & _kls_set\n",
    "    return sum([word_dict[key] for key in intersection])\n",
    "\n",
    "\n",
    "def get_stats(word):\n",
    "    c = Counter(word)\n",
    "    return [get_class_count(c, UPPER), get_class_count(c, MIDDLE), get_class_count(c, LOWER)]\n",
    "    \n",
    "\n",
    "def distance(word1, word2):\n",
    "    stat1 = get_stats(word1)\n",
    "    stat2 = get_stats(word2)\n",
    "    return sqrt(sum([(i-j)**2 for i, j in zip(stat1, stat2)]))\n"
   ]
  },
  {
   "cell_type": "code",
   "execution_count": 6,
   "metadata": {
    "collapsed": true
   },
   "outputs": [],
   "source": [
    "def majority(labels):\n",
    "    counts = Counter(labels)\n",
    "    winner, winner_count = counts.most_common(1)[0]\n",
    "    num_winners = len([count \n",
    "                       for count in vote_counts.values()\n",
    "                       if count == winner_count])\n",
    "\n",
    "    if num_winners == 1:\n",
    "        return winner                     # unique winner, so return it\n",
    "    else:\n",
    "        return majority(labels[:-1])\n",
    "    "
   ]
  },
  {
   "cell_type": "code",
   "execution_count": 7,
   "metadata": {
    "collapsed": true
   },
   "outputs": [],
   "source": [
    "def knn_classify(k, labeled, word):\n",
    "    \"\"\"each labeled point should be a pair (point, label)\"\"\"\n",
    "    \n",
    "    # order the labeled points from nearest to farthest\n",
    "    by_distance = sorted(labeled,\n",
    "                         key=lambda point: distance(point[\"WORDS\"], word))\n",
    "\n",
    "    # find the labels for the k closest\n",
    "    k_nearest_labels = [label for _, label in by_distance[:k]]\n",
    "\n",
    "    # and let them vote\n",
    "    return majority(k_nearest_labels)"
   ]
  },
  {
   "cell_type": "code",
   "execution_count": null,
   "metadata": {},
   "outputs": [],
   "source": [
    "import csv\n",
    "reader = csv.DictReader(open(\"scribble_data.txt\"))\n",
    "mywork = \"dafdsfsd\"\n",
    "predicted = knn_classify(2, reader, \"sdjfsl\")\n",
    "print(predicted)"
   ]
  },
  {
   "cell_type": "code",
   "execution_count": null,
   "metadata": {
    "collapsed": true
   },
   "outputs": [],
   "source": []
  }
 ],
 "metadata": {
  "kernelspec": {
   "display_name": "Python 3",
   "language": "python",
   "name": "python3"
  },
  "language_info": {
   "codemirror_mode": {
    "name": "ipython",
    "version": 3
   },
   "file_extension": ".py",
   "mimetype": "text/x-python",
   "name": "python",
   "nbconvert_exporter": "python",
   "pygments_lexer": "ipython3",
   "version": "3.5.1"
  }
 },
 "nbformat": 4,
 "nbformat_minor": 2
}
